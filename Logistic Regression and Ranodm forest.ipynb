{
  "nbformat": 4,
  "nbformat_minor": 0,
  "metadata": {
    "colab": {
      "name": "Pulsar_stars_Prediction.ipynb",
      "provenance": [],
      "collapsed_sections": [],
      "authorship_tag": "ABX9TyNEKj8snLnc/JYb0GIvr7Z2",
      "include_colab_link": true
    },
    "kernelspec": {
      "name": "python3",
      "display_name": "Python 3"
    },
    "language_info": {
      "name": "python"
    }
  },
  "cells": [
    {
      "cell_type": "markdown",
      "metadata": {
        "id": "view-in-github",
        "colab_type": "text"
      },
      "source": [
        "<a href=\"https://colab.research.google.com/github/Prajwayne/Classification-Problems-/blob/main/Logistic%20Regression%20and%20Ranodm%20forest.ipynb\" target=\"_parent\"><img src=\"https://colab.research.google.com/assets/colab-badge.svg\" alt=\"Open In Colab\"/></a>"
      ]
    },
    {
      "cell_type": "code",
      "execution_count": null,
      "metadata": {
        "id": "mdff5o0i1_jx"
      },
      "outputs": [],
      "source": [
        "import numpy as np \n",
        "import pandas as pd \n",
        "\n",
        "# for data visualization\n",
        "import seaborn as sns \n",
        "import matplotlib.pylab as plt\n",
        "\n",
        "# for the pre-processing of the data\n",
        "from sklearn.preprocessing import StandardScaler\n",
        "\n",
        "# for machine learning models \n",
        "import sklearn\n",
        "from sklearn.model_selection import train_test_split \n",
        "from sklearn import metrics\n",
        "from sklearn.tree import DecisionTreeClassifier\n",
        "from sklearn.linear_model import LogisticRegression\n",
        "from sklearn.ensemble import RandomForestClassifier\n",
        "from sklearn.ensemble import AdaBoostClassifier\n",
        "from sklearn.neighbors import KNeighborsClassifier\n",
        "from sklearn.ensemble import VotingClassifier\n",
        "\n",
        "# for the metrics of machine learning models \n",
        "from sklearn.model_selection import cross_val_score, RandomizedSearchCV, GridSearchCV\n",
        "from sklearn.metrics import classification_report, confusion_matrix, roc_curve, auc, roc_auc_score\n",
        "from sklearn.metrics import f1_score, accuracy_score, recall_score\n",
        "from sklearn.model_selection import KFold\n",
        "\n",
        "# others \n",
        "import time\n",
        "import random"
      ]
    },
    {
      "cell_type": "code",
      "source": [
        "pulsar_stars = pd.read_csv(\"/content/coursework_resit (1).csv\",header=None)\n",
        "\n",
        "# to check if we have to clean the data \n",
        "print(pulsar_stars.apply(pd.Series.count))"
      ],
      "metadata": {
        "id": "_PEOFXL12wFl"
      },
      "execution_count": null,
      "outputs": []
    },
    {
      "cell_type": "markdown",
      "source": [
        " The different features that describe an observation"
      ],
      "metadata": {
        "id": "-_DjybV-2_Xx"
      }
    },
    {
      "cell_type": "markdown",
      "source": [
        "EDA"
      ],
      "metadata": {
        "id": "9OPB-gS0ogLt"
      }
    },
    {
      "cell_type": "code",
      "source": [
        "pulsar_stars.isnull().values.any()"
      ],
      "metadata": {
        "colab": {
          "base_uri": "https://localhost:8080/"
        },
        "id": "3pX99FszQl2A",
        "outputId": "ba6e5183-578b-4cfb-9b14-df83222a7e8b"
      },
      "execution_count": null,
      "outputs": [
        {
          "output_type": "execute_result",
          "data": {
            "text/plain": [
              "False"
            ]
          },
          "metadata": {},
          "execution_count": 58
        }
      ]
    },
    {
      "cell_type": "code",
      "source": [
        "# adding column name to the respective columns\n",
        "pulsar_stars.columns =['one','two','three','four','five','six','seven','eight','target_class']\n",
        "  \n",
        "# displaying the DataFrame\n",
        "pulsar_stars.head()"
      ],
      "metadata": {
        "id": "2AZ6i-iJ3Wkl",
        "colab": {
          "base_uri": "https://localhost:8080/",
          "height": 206
        },
        "outputId": "c7fc475c-e27c-4979-8751-4c764bbd9375"
      },
      "execution_count": null,
      "outputs": [
        {
          "output_type": "execute_result",
          "data": {
            "text/plain": [
              "          one        two     three      four      five        six      seven  \\\n",
              "0  140.562500  55.683782 -0.234571 -0.699648  3.199833  19.110426   7.975532   \n",
              "1  102.507812  58.882430  0.465318 -0.515088  1.677258  14.860146  10.576487   \n",
              "2  103.015625  39.341649  0.323328  1.051164  3.121237  21.744669   7.735822   \n",
              "3  136.750000  57.178449 -0.068415 -0.636238  3.642977  20.959280   6.896499   \n",
              "4   88.726562  40.672225  0.600866  1.123492  1.178930  11.468720  14.269573   \n",
              "\n",
              "        eight  target_class  \n",
              "0   74.242225             0  \n",
              "1  127.393580             0  \n",
              "2   63.171909             0  \n",
              "3   53.593661             0  \n",
              "4  252.567306             0  "
            ],
            "text/html": [
              "\n",
              "  <div id=\"df-1ed89885-6773-49e1-8c6e-ce5bfcc77b4e\">\n",
              "    <div class=\"colab-df-container\">\n",
              "      <div>\n",
              "<style scoped>\n",
              "    .dataframe tbody tr th:only-of-type {\n",
              "        vertical-align: middle;\n",
              "    }\n",
              "\n",
              "    .dataframe tbody tr th {\n",
              "        vertical-align: top;\n",
              "    }\n",
              "\n",
              "    .dataframe thead th {\n",
              "        text-align: right;\n",
              "    }\n",
              "</style>\n",
              "<table border=\"1\" class=\"dataframe\">\n",
              "  <thead>\n",
              "    <tr style=\"text-align: right;\">\n",
              "      <th></th>\n",
              "      <th>one</th>\n",
              "      <th>two</th>\n",
              "      <th>three</th>\n",
              "      <th>four</th>\n",
              "      <th>five</th>\n",
              "      <th>six</th>\n",
              "      <th>seven</th>\n",
              "      <th>eight</th>\n",
              "      <th>target_class</th>\n",
              "    </tr>\n",
              "  </thead>\n",
              "  <tbody>\n",
              "    <tr>\n",
              "      <th>0</th>\n",
              "      <td>140.562500</td>\n",
              "      <td>55.683782</td>\n",
              "      <td>-0.234571</td>\n",
              "      <td>-0.699648</td>\n",
              "      <td>3.199833</td>\n",
              "      <td>19.110426</td>\n",
              "      <td>7.975532</td>\n",
              "      <td>74.242225</td>\n",
              "      <td>0</td>\n",
              "    </tr>\n",
              "    <tr>\n",
              "      <th>1</th>\n",
              "      <td>102.507812</td>\n",
              "      <td>58.882430</td>\n",
              "      <td>0.465318</td>\n",
              "      <td>-0.515088</td>\n",
              "      <td>1.677258</td>\n",
              "      <td>14.860146</td>\n",
              "      <td>10.576487</td>\n",
              "      <td>127.393580</td>\n",
              "      <td>0</td>\n",
              "    </tr>\n",
              "    <tr>\n",
              "      <th>2</th>\n",
              "      <td>103.015625</td>\n",
              "      <td>39.341649</td>\n",
              "      <td>0.323328</td>\n",
              "      <td>1.051164</td>\n",
              "      <td>3.121237</td>\n",
              "      <td>21.744669</td>\n",
              "      <td>7.735822</td>\n",
              "      <td>63.171909</td>\n",
              "      <td>0</td>\n",
              "    </tr>\n",
              "    <tr>\n",
              "      <th>3</th>\n",
              "      <td>136.750000</td>\n",
              "      <td>57.178449</td>\n",
              "      <td>-0.068415</td>\n",
              "      <td>-0.636238</td>\n",
              "      <td>3.642977</td>\n",
              "      <td>20.959280</td>\n",
              "      <td>6.896499</td>\n",
              "      <td>53.593661</td>\n",
              "      <td>0</td>\n",
              "    </tr>\n",
              "    <tr>\n",
              "      <th>4</th>\n",
              "      <td>88.726562</td>\n",
              "      <td>40.672225</td>\n",
              "      <td>0.600866</td>\n",
              "      <td>1.123492</td>\n",
              "      <td>1.178930</td>\n",
              "      <td>11.468720</td>\n",
              "      <td>14.269573</td>\n",
              "      <td>252.567306</td>\n",
              "      <td>0</td>\n",
              "    </tr>\n",
              "  </tbody>\n",
              "</table>\n",
              "</div>\n",
              "      <button class=\"colab-df-convert\" onclick=\"convertToInteractive('df-1ed89885-6773-49e1-8c6e-ce5bfcc77b4e')\"\n",
              "              title=\"Convert this dataframe to an interactive table.\"\n",
              "              style=\"display:none;\">\n",
              "        \n",
              "  <svg xmlns=\"http://www.w3.org/2000/svg\" height=\"24px\"viewBox=\"0 0 24 24\"\n",
              "       width=\"24px\">\n",
              "    <path d=\"M0 0h24v24H0V0z\" fill=\"none\"/>\n",
              "    <path d=\"M18.56 5.44l.94 2.06.94-2.06 2.06-.94-2.06-.94-.94-2.06-.94 2.06-2.06.94zm-11 1L8.5 8.5l.94-2.06 2.06-.94-2.06-.94L8.5 2.5l-.94 2.06-2.06.94zm10 10l.94 2.06.94-2.06 2.06-.94-2.06-.94-.94-2.06-.94 2.06-2.06.94z\"/><path d=\"M17.41 7.96l-1.37-1.37c-.4-.4-.92-.59-1.43-.59-.52 0-1.04.2-1.43.59L10.3 9.45l-7.72 7.72c-.78.78-.78 2.05 0 2.83L4 21.41c.39.39.9.59 1.41.59.51 0 1.02-.2 1.41-.59l7.78-7.78 2.81-2.81c.8-.78.8-2.07 0-2.86zM5.41 20L4 18.59l7.72-7.72 1.47 1.35L5.41 20z\"/>\n",
              "  </svg>\n",
              "      </button>\n",
              "      \n",
              "  <style>\n",
              "    .colab-df-container {\n",
              "      display:flex;\n",
              "      flex-wrap:wrap;\n",
              "      gap: 12px;\n",
              "    }\n",
              "\n",
              "    .colab-df-convert {\n",
              "      background-color: #E8F0FE;\n",
              "      border: none;\n",
              "      border-radius: 50%;\n",
              "      cursor: pointer;\n",
              "      display: none;\n",
              "      fill: #1967D2;\n",
              "      height: 32px;\n",
              "      padding: 0 0 0 0;\n",
              "      width: 32px;\n",
              "    }\n",
              "\n",
              "    .colab-df-convert:hover {\n",
              "      background-color: #E2EBFA;\n",
              "      box-shadow: 0px 1px 2px rgba(60, 64, 67, 0.3), 0px 1px 3px 1px rgba(60, 64, 67, 0.15);\n",
              "      fill: #174EA6;\n",
              "    }\n",
              "\n",
              "    [theme=dark] .colab-df-convert {\n",
              "      background-color: #3B4455;\n",
              "      fill: #D2E3FC;\n",
              "    }\n",
              "\n",
              "    [theme=dark] .colab-df-convert:hover {\n",
              "      background-color: #434B5C;\n",
              "      box-shadow: 0px 1px 3px 1px rgba(0, 0, 0, 0.15);\n",
              "      filter: drop-shadow(0px 1px 2px rgba(0, 0, 0, 0.3));\n",
              "      fill: #FFFFFF;\n",
              "    }\n",
              "  </style>\n",
              "\n",
              "      <script>\n",
              "        const buttonEl =\n",
              "          document.querySelector('#df-1ed89885-6773-49e1-8c6e-ce5bfcc77b4e button.colab-df-convert');\n",
              "        buttonEl.style.display =\n",
              "          google.colab.kernel.accessAllowed ? 'block' : 'none';\n",
              "\n",
              "        async function convertToInteractive(key) {\n",
              "          const element = document.querySelector('#df-1ed89885-6773-49e1-8c6e-ce5bfcc77b4e');\n",
              "          const dataTable =\n",
              "            await google.colab.kernel.invokeFunction('convertToInteractive',\n",
              "                                                     [key], {});\n",
              "          if (!dataTable) return;\n",
              "\n",
              "          const docLinkHtml = 'Like what you see? Visit the ' +\n",
              "            '<a target=\"_blank\" href=https://colab.research.google.com/notebooks/data_table.ipynb>data table notebook</a>'\n",
              "            + ' to learn more about interactive tables.';\n",
              "          element.innerHTML = '';\n",
              "          dataTable['output_type'] = 'display_data';\n",
              "          await google.colab.output.renderOutput(dataTable, element);\n",
              "          const docLink = document.createElement('div');\n",
              "          docLink.innerHTML = docLinkHtml;\n",
              "          element.appendChild(docLink);\n",
              "        }\n",
              "      </script>\n",
              "    </div>\n",
              "  </div>\n",
              "  "
            ]
          },
          "metadata": {},
          "execution_count": 94
        }
      ]
    },
    {
      "cell_type": "code",
      "source": [
        "sns.countplot(x = 'target_class', data = pulsar_stars, palette = 'Set3')"
      ],
      "metadata": {
        "id": "Ru2Jzjrn3WfQ",
        "colab": {
          "base_uri": "https://localhost:8080/",
          "height": 298
        },
        "outputId": "4429ad79-85a1-4958-962c-4cff6f6d888c"
      },
      "execution_count": null,
      "outputs": [
        {
          "output_type": "execute_result",
          "data": {
            "text/plain": [
              "<matplotlib.axes._subplots.AxesSubplot at 0x7fe657808310>"
            ]
          },
          "metadata": {},
          "execution_count": 50
        },
        {
          "output_type": "display_data",
          "data": {
            "text/plain": [
              "<Figure size 432x288 with 1 Axes>"
            ],
            "image/png": "[encoded data removed]"
          },
          "metadata": {
            "needs_background": "light"
          }
        }
      ]
    },
    {
      "cell_type": "markdown",
      "source": [
        "Train Test Split"
      ],
      "metadata": {
        "id": "8UTbs3YO3WCg"
      }
    },
    {
      "cell_type": "code",
      "source": [
        "# we set the seed for the random cursor\n",
        "random.seed(10)\n",
        "\n",
        "# we split the data\n",
        "X = pulsar_stars.drop(['target_class'], axis = 1)\n",
        "y = pulsar_stars['target_class']\n",
        "X_train, X_test, y_train, y_test = train_test_split(X,y,test_size = 0.8, random_state = 10)\n",
        "X_columns = X_train.columns"
      ],
      "metadata": {
        "id": "yQatJ-6L2vpj"
      },
      "execution_count": null,
      "outputs": []
    },
    {
      "cell_type": "code",
      "source": [
        "# Investigate all the elements whithin each Feature \n",
        "\n",
        "for column in pulsar_stars:\n",
        "    unique_values = np.unique(pulsar_stars[column])\n",
        "    nr_values = len(unique_values)\n",
        "    if nr_values <= 10:\n",
        "        print(\"The number of values for feature {} is: {} -- {}\".format(column, nr_values, unique_values))\n",
        "    else:\n",
        "        print(\"The number of values for feature {} is: {}\".format(column, nr_values))"
      ],
      "metadata": {
        "id": "ZW5QgSTl3_j6",
        "colab": {
          "base_uri": "https://localhost:8080/"
        },
        "outputId": "59ed3179-7fd4-49d5-8b5e-98a124855d72"
      },
      "execution_count": null,
      "outputs": [
        {
          "output_type": "stream",
          "name": "stdout",
          "text": [
            "The number of values for feature one is: 8626\n",
            "The number of values for feature two is: 17862\n",
            "The number of values for feature three is: 17897\n",
            "The number of values for feature four is: 17898\n",
            "The number of values for feature five is: 9000\n",
            "The number of values for feature six is: 17894\n",
            "The number of values for feature seven is: 17895\n",
            "The number of values for feature eight is: 17895\n",
            "The number of values for feature target_class is: 2 -- [0 1]\n"
          ]
        }
      ]
    },
    {
      "cell_type": "code",
      "source": [
        "#correlation plot\n",
        "corr = pulsar_stars.corr()\n",
        "sns.heatmap(corr)"
      ],
      "metadata": {
        "id": "URxTWsBN4OjM",
        "colab": {
          "base_uri": "https://localhost:8080/",
          "height": 338
        },
        "outputId": "c170de19-cae1-4528-b1dd-b54835e40e17"
      },
      "execution_count": null,
      "outputs": [
        {
          "output_type": "execute_result",
          "data": {
            "text/plain": [
              "<matplotlib.axes._subplots.AxesSubplot at 0x7f2ea619e8d0>"
            ]
          },
          "metadata": {},
          "execution_count": 7
        },
        {
          "output_type": "display_data",
          "data": {
            "text/plain": [
              "<Figure size 432x288 with 2 Axes>"
            ],
            "image/png": "[encoded data removed]"
          },
          "metadata": {
            "needs_background": "light"
          }
        }
      ]
    },
    {
      "cell_type": "markdown",
      "source": [
        "It is clear that the integrated profile's excess kurtosis is more highly connected with the target class."
      ],
      "metadata": {
        "id": "yjIKDtrJ4Wb9"
      }
    },
    {
      "cell_type": "code",
      "source": [
        "#create numeric plots\n",
        "num = [f for f in X_train.columns if X_train.dtypes[f] != 'object']\n",
        "nd = pd.melt(X_train, value_vars = num)\n",
        "n1 = sns.FacetGrid (nd, col='variable', col_wrap=3, height = 5.5, sharex=False, sharey = False)\n",
        "n1 = n1.map(sns.distplot, 'value')\n",
        "n1"
      ],
      "metadata": {
        "id": "-vRr67dm4Spw"
      },
      "execution_count": null,
      "outputs": []
    },
    {
      "cell_type": "markdown",
      "source": [
        "As you can see, most of the variables are right skewed but we will still have to make some transformations for the others"
      ],
      "metadata": {
        "id": "VqBLWGp95HL0"
      }
    },
    {
      "cell_type": "markdown",
      "source": [
        "**Pre-processing**"
      ],
      "metadata": {
        "id": "wcDC3QaX5L2c"
      }
    },
    {
      "cell_type": "markdown",
      "source": [
        "Standard scalar "
      ],
      "metadata": {
        "id": "p17vKUAk5b4U"
      }
    },
    {
      "cell_type": "code",
      "source": [
        "scaler = StandardScaler()\n",
        "X_train = scaler.fit_transform(X_train)\n",
        "X_test = scaler.transform(X_test)"
      ],
      "metadata": {
        "id": "KO-FleDM5CMl"
      },
      "execution_count": null,
      "outputs": []
    },
    {
      "cell_type": "code",
      "source": [
        "X_train = pd.DataFrame(X_train, columns = X_columns)\n",
        "X_test = pd.DataFrame(X_test, columns = X_columns)"
      ],
      "metadata": {
        "id": "oSMXIYvU4SmW"
      },
      "execution_count": null,
      "outputs": []
    },
    {
      "cell_type": "code",
      "source": [
        "X_test"
      ],
      "metadata": {
        "id": "P2aO971uAmDa"
      },
      "execution_count": null,
      "outputs": []
    },
    {
      "cell_type": "markdown",
      "source": [
        "Dummy Classifier "
      ],
      "metadata": {
        "id": "MLMRTvhX0dZ-"
      }
    },
    {
      "cell_type": "code",
      "source": [
        "# Training a Dummy Classifier\n",
        "\n",
        "from sklearn.dummy import DummyClassifier\n",
        "\n",
        "dummy_clf = DummyClassifier(strategy=\"most_frequent\")\n",
        "dummy_clf.fit(X_train, y_train)\n",
        "# score = dummy_clf.score(X_test, y_test)\n",
        "\n",
        "# pred_proba_t = dummy_clf.predict_proba(X_test)\n",
        "# # log_loss2 = log_loss(y_test, pred_proba_t)\n",
        "\n",
        "# print(\"Testing Acc:\", score)\n",
        "# # print(\"Log Loss:\", log_loss2)"
      ],
      "metadata": {
        "id": "ztI4Mqg90jYl",
        "colab": {
          "base_uri": "https://localhost:8080/"
        },
        "outputId": "bcc5b44b-df25-4afe-a980-da144f394f05"
      },
      "execution_count": null,
      "outputs": [
        {
          "output_type": "execute_result",
          "data": {
            "text/plain": [
              "DummyClassifier(strategy='most_frequent')"
            ]
          },
          "metadata": {},
          "execution_count": 12
        }
      ]
    },
    {
      "cell_type": "code",
      "source": [
        "y_pred_dummy  = dummy_clf.predict(X_test)"
      ],
      "metadata": {
        "id": "fWsgeDFD2LZj"
      },
      "execution_count": null,
      "outputs": []
    },
    {
      "cell_type": "code",
      "source": [
        "from sklearn.metrics import confusion_matrix, accuracy_score\n",
        "cm = confusion_matrix(y_test, y_pred_dummy)\n",
        "print(cm)\n",
        "accuracy_score(y_test, y_pred_dummy)"
      ],
      "metadata": {
        "colab": {
          "base_uri": "https://localhost:8080/"
        },
        "id": "681hZI-Z2LWJ",
        "outputId": "771bcb85-ea8e-4424-b8b8-9ecb0dbb4de2"
      },
      "execution_count": null,
      "outputs": [
        {
          "output_type": "stream",
          "name": "stdout",
          "text": [
            "[[13011     0]\n",
            " [ 1308     0]]\n"
          ]
        },
        {
          "output_type": "execute_result",
          "data": {
            "text/plain": [
              "0.908652838885397"
            ]
          },
          "metadata": {},
          "execution_count": 14
        }
      ]
    },
    {
      "cell_type": "code",
      "source": [],
      "metadata": {
        "id": "45SLr3xY2LTv"
      },
      "execution_count": null,
      "outputs": []
    },
    {
      "cell_type": "code",
      "source": [
        "# generate confusion matrix for Logistic Regression classifier\n",
        "conf_mat_lg = confusion_matrix(y_test,y_pred_dummy )\n",
        "# put it into a dataframe for seaborn plot function\n",
        "conf_math_lg_df = pd.DataFrame(conf_mat_lg)\n",
        "\n",
        "# Use a seaborn heatmap to plot confusion matrices\n",
        "# The dataframe is transposed to make Actual values on x-axis and predicted on y-axis\n",
        "# annot = True includes the numbers in each box\n",
        "# vmin and vmax just adjusts the color value\n",
        "fig, ax = plt.subplots(figsize = (7,7))\n",
        "sns.heatmap(conf_math_lg_df.T, annot=True, annot_kws={\"size\": 15}, cmap=\"Purples\", vmin=0, vmax=800, fmt='.0f', \n",
        "            linewidths=1, linecolor=\"white\", cbar=False, xticklabels=[\"no pulsar star\",\"pulsar star\"], \n",
        "            yticklabels=[\"no pulsar star\",\"pulsar star\"])\n",
        "plt.ylabel(\"Predicted\", fontsize=15)\n",
        "plt.xlabel(\"Actual\", fontsize=15)\n",
        "ax.set_xticklabels([\"no pulsar star\",\"pulsar star\"], fontsize=13)\n",
        "ax.set_yticklabels([\"no pulsar star\",\"pulsar star\"], fontsize=13)\n",
        "plt.title(\"Confusion Matrix for Dummy Classifier\", fontsize=15)\n",
        "\n",
        "plt.show()\n",
        "print(\"\")\n",
        "print(classification_report(y_test, y_pred_dummy))\n"
      ],
      "metadata": {
        "id": "6mBv7YUi0jU-",
        "colab": {
          "base_uri": "https://localhost:8080/",
          "height": 778
        },
        "outputId": "0bc7d454-ac36-49b5-b9b5-75cd070c6b7b"
      },
      "execution_count": null,
      "outputs": [
        {
          "output_type": "display_data",
          "data": {
            "text/plain": [
              "<Figure size 504x504 with 1 Axes>"
            ],
            "image/png": "[encoded data removed]"
          },
          "metadata": {
            "needs_background": "light"
          }
        },
        {
          "output_type": "stream",
          "name": "stdout",
          "text": [
            "\n",
            "              precision    recall  f1-score   support\n",
            "\n",
            "           0       0.91      1.00      0.95     13011\n",
            "           1       0.00      0.00      0.00      1308\n",
            "\n",
            "    accuracy                           0.91     14319\n",
            "   macro avg       0.45      0.50      0.48     14319\n",
            "weighted avg       0.83      0.91      0.87     14319\n",
            "\n"
          ]
        },
        {
          "output_type": "stream",
          "name": "stderr",
          "text": [
            "/usr/local/lib/python3.7/dist-packages/sklearn/metrics/_classification.py:1318: UndefinedMetricWarning: Precision and F-score are ill-defined and being set to 0.0 in labels with no predicted samples. Use `zero_division` parameter to control this behavior.\n",
            "  _warn_prf(average, modifier, msg_start, len(result))\n",
            "/usr/local/lib/python3.7/dist-packages/sklearn/metrics/_classification.py:1318: UndefinedMetricWarning: Precision and F-score are ill-defined and being set to 0.0 in labels with no predicted samples. Use `zero_division` parameter to control this behavior.\n",
            "  _warn_prf(average, modifier, msg_start, len(result))\n",
            "/usr/local/lib/python3.7/dist-packages/sklearn/metrics/_classification.py:1318: UndefinedMetricWarning: Precision and F-score are ill-defined and being set to 0.0 in labels with no predicted samples. Use `zero_division` parameter to control this behavior.\n",
            "  _warn_prf(average, modifier, msg_start, len(result))\n"
          ]
        }
      ]
    },
    {
      "cell_type": "code",
      "source": [],
      "metadata": {
        "id": "HkZ7KONg4yoS"
      },
      "execution_count": null,
      "outputs": []
    },
    {
      "cell_type": "markdown",
      "source": [
        "Implementing Logistic Regression "
      ],
      "metadata": {
        "id": "5kRbT1Al41Dp"
      }
    },
    {
      "cell_type": "code",
      "source": [
        "from sklearn.linear_model import LogisticRegression\n",
        "classifier = LogisticRegression(random_state = 0)\n",
        "classifier.fit(X_train, y_train)"
      ],
      "metadata": {
        "colab": {
          "base_uri": "https://localhost:8080/"
        },
        "id": "oy-7sut-VYA2",
        "outputId": "8b820056-59c3-43c1-c9ce-d5bdb3ba2c0c"
      },
      "execution_count": null,
      "outputs": [
        {
          "output_type": "execute_result",
          "data": {
            "text/plain": [
              "LogisticRegression(random_state=0)"
            ]
          },
          "metadata": {},
          "execution_count": 85
        }
      ]
    },
    {
      "cell_type": "code",
      "source": [
        "y_pred_lg = classifier.predict(X_test)"
      ],
      "metadata": {
        "id": "VJ2u3UfGVw1B"
      },
      "execution_count": null,
      "outputs": []
    },
    {
      "cell_type": "code",
      "source": [
        "from sklearn.metrics import confusion_matrix, accuracy_score\n",
        "cm = confusion_matrix(y_test, y_pred_lg)\n",
        "print(cm)\n",
        "accuracy_score(y_test, y_pred_lg)"
      ],
      "metadata": {
        "colab": {
          "base_uri": "https://localhost:8080/"
        },
        "id": "4kIxQov7VWqZ",
        "outputId": "be87ac68-8222-4a0e-ca87-bdde574ff850"
      },
      "execution_count": null,
      "outputs": [
        {
          "output_type": "stream",
          "name": "stdout",
          "text": [
            "[[12926    85]\n",
            " [  222  1086]]\n"
          ]
        },
        {
          "output_type": "execute_result",
          "data": {
            "text/plain": [
              "0.9785599553041413"
            ]
          },
          "metadata": {},
          "execution_count": 87
        }
      ]
    },
    {
      "cell_type": "code",
      "source": [
        "# generate confusion matrix for Logistic Regression classifier\n",
        "conf_mat_lg = confusion_matrix(y_test, y_pred_lg)\n",
        "# put it into a dataframe for seaborn plot function\n",
        "conf_math_lg_df = pd.DataFrame(conf_mat_lg)\n",
        "\n",
        "# Use a seaborn heatmap to plot confusion matrices\n",
        "# The dataframe is transposed to make Actual values on x-axis and predicted on y-axis\n",
        "# annot = True includes the numbers in each box\n",
        "# vmin and vmax just adjusts the color value\n",
        "fig, ax = plt.subplots(figsize = (7,7))\n",
        "sns.heatmap(conf_math_lg_df.T, annot=True, annot_kws={\"size\": 15}, cmap=\"Purples\", vmin=0, vmax=800, fmt='.0f', \n",
        "            linewidths=1, linecolor=\"white\", cbar=False, xticklabels=[\"no pulsar star\",\"pulsar star\"], \n",
        "            yticklabels=[\"no pulsar star\",\"pulsar star\"])\n",
        "plt.ylabel(\"Predicted\", fontsize=15)\n",
        "plt.xlabel(\"Actual\", fontsize=15)\n",
        "ax.set_xticklabels([\"no pulsar star\",\"pulsar star\"], fontsize=13)\n",
        "ax.set_yticklabels([\"no pulsar star\",\"pulsar star\"], fontsize=13)\n",
        "plt.title(\"Confusion Matrix for 'Logistic regression' Classifier\", fontsize=15)\n",
        "\n",
        "plt.show()\n",
        "print(\"\")\n",
        "print(classification_report(y_test, y_pred_lg))\n",
        "\n",
        "\n",
        "# performance_df['Logistic_regression']['f1_score_weighted'] = f1_score(y_test, y_pred, average = 'weighted')"
      ],
      "metadata": {
        "colab": {
          "base_uri": "https://localhost:8080/",
          "height": 650
        },
        "id": "O_vC540hV9BT",
        "outputId": "f4a8ed8f-7a48-49dc-e74e-754d8be16ec4"
      },
      "execution_count": null,
      "outputs": [
        {
          "output_type": "display_data",
          "data": {
            "text/plain": [
              "<Figure size 504x504 with 1 Axes>"
            ],
            "image/png": "[encoded data removed]"
          },
          "metadata": {
            "needs_background": "light"
          }
        },
        {
          "output_type": "stream",
          "name": "stdout",
          "text": [
            "\n",
            "              precision    recall  f1-score   support\n",
            "\n",
            "           0       0.98      0.99      0.99     13011\n",
            "           1       0.93      0.83      0.88      1308\n",
            "\n",
            "    accuracy                           0.98     14319\n",
            "   macro avg       0.96      0.91      0.93     14319\n",
            "weighted avg       0.98      0.98      0.98     14319\n",
            "\n"
          ]
        }
      ]
    },
    {
      "cell_type": "code",
      "source": [
        "# pip install scikit-plot"
      ],
      "metadata": {
        "id": "DVMcFSGn5bRE"
      },
      "execution_count": null,
      "outputs": []
    },
    {
      "cell_type": "code",
      "source": [
        "#import scikitplot as skplt\n",
        "problg = classifier.predict_proba(X_test)\n"
      ],
      "metadata": {
        "id": "OAgvWpMz5R4c"
      },
      "execution_count": null,
      "outputs": []
    },
    {
      "cell_type": "code",
      "source": [
        "skplt.metrics.plot_roc(y_test, problg)"
      ],
      "metadata": {
        "colab": {
          "base_uri": "https://localhost:8080/",
          "height": 313
        },
        "id": "BBj6Q0guWkMw",
        "outputId": "71a473f5-dc55-43c5-9922-7aefe42e4d22"
      },
      "execution_count": null,
      "outputs": [
        {
          "output_type": "execute_result",
          "data": {
            "text/plain": [
              "<matplotlib.axes._subplots.AxesSubplot at 0x7fe658213390>"
            ]
          },
          "metadata": {},
          "execution_count": 34
        },
        {
          "output_type": "display_data",
          "data": {
            "text/plain": [
              "<Figure size 432x288 with 1 Axes>"
            ],
            "image/png": "[encoded data removed]"
          },
          "metadata": {
            "needs_background": "light"
          }
        }
      ]
    },
    {
      "cell_type": "markdown",
      "source": [
        "Implementing Random Forest "
      ],
      "metadata": {
        "id": "C5Ay-d0R3DwF"
      }
    },
    {
      "cell_type": "code",
      "source": [
        "from sklearn.ensemble import RandomForestClassifier\n",
        "\n",
        "classifier_rf = RandomForestClassifier(n_estimators = 10, criterion = 'entropy', random_state = 0)\n",
        "classifier_rf.fit(X_train, y_train)"
      ],
      "metadata": {
        "colab": {
          "base_uri": "https://localhost:8080/"
        },
        "id": "nVXPy0a23Dc5",
        "outputId": "044d0d57-7740-4ff3-e783-81e27a33e0e9"
      },
      "execution_count": null,
      "outputs": [
        {
          "output_type": "execute_result",
          "data": {
            "text/plain": [
              "RandomForestClassifier(criterion='entropy', n_estimators=10, random_state=0)"
            ]
          },
          "metadata": {},
          "execution_count": 66
        }
      ]
    },
    {
      "cell_type": "code",
      "source": [
        "y_pred_rf = classifier_rf.predict(X_test)"
      ],
      "metadata": {
        "id": "7FpFGP1uWkJY"
      },
      "execution_count": null,
      "outputs": []
    },
    {
      "cell_type": "code",
      "source": [
        "# generate confusion matrix for Logistic Regression classifier\n",
        "conf_mat_lg = confusion_matrix(y_test, y_pred_rf)\n",
        "# put it into a dataframe for seaborn plot function\n",
        "conf_math_lg_df = pd.DataFrame(conf_mat_lg)\n",
        "\n",
        "# Use a seaborn heatmap to plot confusion matrices\n",
        "# The dataframe is transposed to make Actual values on x-axis and predicted on y-axis\n",
        "# annot = True includes the numbers in each box\n",
        "# vmin and vmax just adjusts the color value\n",
        "fig, ax = plt.subplots(figsize = (7,7))\n",
        "sns.heatmap(conf_math_lg_df.T, annot=True, annot_kws={\"size\": 15}, cmap=\"Purples\", vmin=0, vmax=800, fmt='.0f', \n",
        "            linewidths=1, linecolor=\"white\", cbar=False, xticklabels=[\"no pulsar star\",\"pulsar star\"], \n",
        "            yticklabels=[\"no pulsar star\",\"pulsar star\"])\n",
        "plt.ylabel(\"Predicted\", fontsize=15)\n",
        "plt.xlabel(\"Actual\", fontsize=15)\n",
        "ax.set_xticklabels([\"no pulsar star\",\"pulsar star\"], fontsize=13)\n",
        "ax.set_yticklabels([\"no pulsar star\",\"pulsar star\"], fontsize=13)\n",
        "plt.title(\"Confusion Matrix for 'Random Forest' Classifier\", fontsize=15)\n",
        "\n",
        "plt.show()\n",
        "print(\"\")\n",
        "print(classification_report(y_test, y_pred_rf))\n",
        "\n",
        "\n",
        "# performance_df['Logistic_regression']['f1_score_weighted'] = f1_score(y_test, y_pred, average = 'weighted')"
      ],
      "metadata": {
        "id": "FTg6XR9pWkG0",
        "colab": {
          "base_uri": "https://localhost:8080/",
          "height": 650
        },
        "outputId": "9323e9c7-9924-41c1-9c87-ef50a3704e75"
      },
      "execution_count": null,
      "outputs": [
        {
          "output_type": "display_data",
          "data": {
            "text/plain": [
              "<Figure size 504x504 with 1 Axes>"
            ],
            "image/png": "[encoded data removed]"
          },
          "metadata": {
            "needs_background": "light"
          }
        },
        {
          "output_type": "stream",
          "name": "stdout",
          "text": [
            "\n",
            "              precision    recall  f1-score   support\n",
            "\n",
            "           0       0.98      0.99      0.99     13011\n",
            "           1       0.90      0.84      0.87      1308\n",
            "\n",
            "    accuracy                           0.98     14319\n",
            "   macro avg       0.94      0.92      0.93     14319\n",
            "weighted avg       0.98      0.98      0.98     14319\n",
            "\n"
          ]
        }
      ]
    },
    {
      "cell_type": "code",
      "source": [
        "skplt.metrics.plot_roc(y_test, probrf)"
      ],
      "metadata": {
        "colab": {
          "base_uri": "https://localhost:8080/",
          "height": 313
        },
        "id": "o9gLB3Si524a",
        "outputId": "78a8dcbd-41c5-4748-d313-ab65c4aa6efe"
      },
      "execution_count": null,
      "outputs": [
        {
          "output_type": "execute_result",
          "data": {
            "text/plain": [
              "<matplotlib.axes._subplots.AxesSubplot at 0x7fe6579d6f50>"
            ]
          },
          "metadata": {},
          "execution_count": 42
        },
        {
          "output_type": "display_data",
          "data": {
            "text/plain": [
              "<Figure size 432x288 with 1 Axes>"
            ],
            "image/png": "[encoded data removed]"
          },
          "metadata": {
            "needs_background": "light"
          }
        }
      ]
    },
    {
      "cell_type": "code",
      "source": [],
      "metadata": {
        "id": "vqYtyD5O52lO"
      },
      "execution_count": null,
      "outputs": []
    },
    {
      "cell_type": "code",
      "source": [
        "accuracy = []\n",
        "# for j in estim:\n",
        "for i in range(1,10):\n",
        "    r = RandomForestClassifier(n_estimators = 20, max_depth = i)\n",
        "    r.fit(X_train, y_train)\n",
        "    accuracy.append(r.score(X_test,y_test))\n",
        "\n",
        "plt.plot(accuracy)"
      ],
      "metadata": {
        "id": "p-LtynRuqIgi"
      },
      "execution_count": null,
      "outputs": []
    },
    {
      "cell_type": "markdown",
      "source": [
        "Implementing Hyperparameter Tuning "
      ],
      "metadata": {
        "id": "SHHUeYRU4btw"
      }
    },
    {
      "cell_type": "code",
      "source": [
        "param_grid = { \n",
        "    'n_estimators': [10, 20, 50],\n",
        "    'criterion' :['gini', 'entropy'],\n",
        "    'max_depth':[3,4,5,6,7,8,9,10]\n",
        "}"
      ],
      "metadata": {
        "id": "xOICsMxXJhEb"
      },
      "execution_count": null,
      "outputs": []
    },
    {
      "cell_type": "code",
      "source": [
        "CV_rfc = GridSearchCV(estimator=rfc, param_grid=param_grid, cv= 5, scoring = 'recall')"
      ],
      "metadata": {
        "id": "n76danepJ0qs"
      },
      "execution_count": null,
      "outputs": []
    },
    {
      "cell_type": "code",
      "source": [
        "CV_rfc.fit(X_train, y_train)"
      ],
      "metadata": {
        "colab": {
          "base_uri": "https://localhost:8080/"
        },
        "id": "bGJpUz1CQoJG",
        "outputId": "a34f5493-9d36-46fc-a160-f5fe832d9359"
      },
      "execution_count": null,
      "outputs": [
        {
          "output_type": "execute_result",
          "data": {
            "text/plain": [
              "GridSearchCV(cv=5, estimator=RandomForestClassifier(random_state=0),\n",
              "             param_grid={'criterion': ['gini', 'entropy'],\n",
              "                         'max_depth': [3, 4, 5, 6, 7, 8, 9, 10],\n",
              "                         'n_estimators': [10, 20, 50]},\n",
              "             scoring='recall')"
            ]
          },
          "metadata": {},
          "execution_count": 103
        }
      ]
    },
    {
      "cell_type": "code",
      "source": [
        "y_predCV = CV_rfc.predict(X_test)"
      ],
      "metadata": {
        "id": "MTCOY0vGriUa"
      },
      "execution_count": null,
      "outputs": []
    },
    {
      "cell_type": "code",
      "source": [
        "from sklearn.metrics import confusion_matrix, accuracy_score\n",
        "cm = confusion_matrix(y_test, y_predCV)\n",
        "print(cm)\n",
        "accuracy_score(y_test, y_predCV)"
      ],
      "metadata": {
        "colab": {
          "base_uri": "https://localhost:8080/"
        },
        "id": "oy90q8RF4a98",
        "outputId": "8d1b4478-7930-4be5-ec3f-ee404f9b4b79"
      },
      "execution_count": null,
      "outputs": [
        {
          "output_type": "stream",
          "name": "stdout",
          "text": [
            "[[12901   110]\n",
            " [  195  1113]]\n"
          ]
        },
        {
          "output_type": "execute_result",
          "data": {
            "text/plain": [
              "0.9786996298624205"
            ]
          },
          "metadata": {},
          "execution_count": 105
        }
      ]
    },
    {
      "cell_type": "code",
      "source": [
        "bestp = CV_rfc.best_params_"
      ],
      "metadata": {
        "id": "ihJGBNMQQID2"
      },
      "execution_count": null,
      "outputs": []
    },
    {
      "cell_type": "code",
      "source": [
        "bestp"
      ],
      "metadata": {
        "colab": {
          "base_uri": "https://localhost:8080/"
        },
        "id": "pzyxEEUfSQQe",
        "outputId": "51a7d18f-9a51-442c-d8f7-37d352e3593b"
      },
      "execution_count": null,
      "outputs": [
        {
          "output_type": "execute_result",
          "data": {
            "text/plain": [
              "{'criterion': 'entropy', 'max_depth': 8, 'n_estimators': 20}"
            ]
          },
          "metadata": {},
          "execution_count": 107
        }
      ]
    },
    {
      "cell_type": "code",
      "source": [
        "# generate confusion matrix for Logistic Regression classifier\n",
        "conf_mat_lg = confusion_matrix(y_test, y_predCV)\n",
        "# put it into a dataframe for seaborn plot function\n",
        "conf_math_lg_df = pd.DataFrame(conf_mat_lg)\n",
        "\n",
        "# Use a seaborn heatmap to plot confusion matrices\n",
        "# The dataframe is transposed to make Actual values on x-axis and predicted on y-axis\n",
        "# annot = True includes the numbers in each box\n",
        "# vmin and vmax just adjusts the color value\n",
        "fig, ax = plt.subplots(figsize = (7,7))\n",
        "sns.heatmap(conf_math_lg_df.T, annot=True, annot_kws={\"size\": 15}, cmap=\"Purples\", vmin=0, vmax=800, fmt='.0f', \n",
        "            linewidths=1, linecolor=\"white\", cbar=False, xticklabels=[\"no pulsar star\",\"pulsar star\"], \n",
        "            yticklabels=[\"no pulsar star\",\"pulsar star\"])\n",
        "plt.ylabel(\"Predicted\", fontsize=15)\n",
        "plt.xlabel(\"Actual\", fontsize=15)\n",
        "ax.set_xticklabels([\"no pulsar star\",\"pulsar star\"], fontsize=13)\n",
        "ax.set_yticklabels([\"no pulsar star\",\"pulsar star\"], fontsize=13)\n",
        "plt.title(\"Confusion Matrix for 'Grid Search' Classifier\", fontsize=15)\n",
        "\n",
        "plt.show()\n",
        "print(\"\")\n",
        "print(classification_report(y_test, y_predCV))"
      ],
      "metadata": {
        "colab": {
          "base_uri": "https://localhost:8080/",
          "height": 650
        },
        "id": "Ki_HBN3-rdV0",
        "outputId": "fddbb462-fa13-485d-b525-1a0a5ff7f295"
      },
      "execution_count": null,
      "outputs": [
        {
          "output_type": "display_data",
          "data": {
            "text/plain": [
              "<Figure size 504x504 with 1 Axes>"
            ],
            "image/png": "[encoded data removed]"
          },
          "metadata": {
            "needs_background": "light"
          }
        },
        {
          "output_type": "stream",
          "name": "stdout",
          "text": [
            "\n",
            "              precision    recall  f1-score   support\n",
            "\n",
            "           0       0.99      0.99      0.99     13011\n",
            "           1       0.91      0.85      0.88      1308\n",
            "\n",
            "    accuracy                           0.98     14319\n",
            "   macro avg       0.95      0.92      0.93     14319\n",
            "weighted avg       0.98      0.98      0.98     14319\n",
            "\n"
          ]
        }
      ]
    }
  ]
}